{
 "cells": [
  {
   "cell_type": "code",
   "execution_count": 1,
   "metadata": {},
   "outputs": [
    {
     "output_type": "stream",
     "name": "stdout",
     "text": "\n+----------------------------+\n| Placar zerado com sucesso! |\n+----------------------------+\n\n---------------------------------------------\nBem vindo ao Jogo da Forca do Nome do Capeta.\n---------------------------------------------\nEscolha uma opção:\n\n1: Iniciar novo jogo\n2: Ver placar\n3: Ver histórico\n4: Zerar placar\n0: Encerrar\n---------------------------------------------\n\n+----------------------------------------------------------------+\n| *** Iniciando a partida do Jogo da Forca do Nome do Capeta *** |\n+----------------------------------------------------------------+\n\n\n  +---+\n  |   |\n      |\n      |\n      |\n      |\n=========\nNome do Capeta: _   _ _ _   _ _   _ _ _ _ _ _ _ _\nTentativas: \n\n  +---+\n  |   |\n      |\n      |\n      |\n      |\n=========\nNome do Capeta: O   _ _ _   _ O   _ _ _ _ _ _ _ _\nTentativas: \nValor incorreto. Informe uma letra.\nValor incorreto. Informe uma letra.\nValor incorreto. Informe uma letra.\nValor incorreto. Informe uma letra.\n\n  +---+\n  |   |\n      |\n      |\n      |\n      |\n=========\nNome do Capeta: O   _ _ _   D O   _ _ _ _ _ _ _ _\nTentativas: \n\n  +---+\n  |   |\n  O   |\n      |\n      |\n      |\n=========\nNome do Capeta: O   _ _ _   D O   _ _ _ _ _ _ _ _\nTentativas: m\n\n  +---+\n  |   |\n  O   |\n      |\n      |\n      |\n=========\nNome do Capeta: O   _ _ _   D O   _ _ _ _ _ _ _ _\nTentativas: m\n\n  +---+\n  |   |\n  O   |\n  |   |\n      |\n      |\n=========\nNome do Capeta: O   _ _ _   D O   _ _ _ _ _ _ _ _\nTentativas: m-f\n\n  +---+\n  |   |\n  O   |\n  |   |\n      |\n      |\n=========\nNome do Capeta: O   _ _ _   D O   _ _ I _ _ _ _ _\nTentativas: m-f\n\n  +---+\n  |   |\n  O   |\n /|   |\n      |\n      |\n=========\nNome do Capeta: O   _ _ _   D O   _ _ I _ _ _ _ _\nTentativas: m-f-u\n\n  +---+\n  |   |\n  O   |\n /|   |\n      |\n      |\n=========\nNome do Capeta: O   _ E _   D O   _ _ I _ _ E _ E\nTentativas: m-f-u\n\n  +---+\n  |   |\n  O   |\n /|   |\n      |\n      |\n=========\nNome do Capeta: O   B E _   D O   _ _ I _ _ E _ E\nTentativas: m-f-u\n\n  +---+\n  |   |\n  O   |\n /|   |\n      |\n      |\n=========\nNome do Capeta: O   B E L   D O   _ _ I _ L E _ E\nTentativas: m-f-u\n\n  +---+\n  |   |\n  O   |\n /|   |\n      |\n      |\n=========\nNome do Capeta: O   B E L   D O   C _ I C L E _ E\nTentativas: m-f-u\n\n  +---+\n  |   |\n  O   |\n /|   |\n      |\n      |\n=========\nNome do Capeta: O   B E L   D O   C H I C L E _ E\nTentativas: m-f-u\n\n+------------------------------------------+\n| Parabéns, você acertou o nome do capeta! |\n| ---O BEL DO CHICLETE---                  |\n+------------------------------------------+\n\n---------------------------------------------\nBem vindo ao Jogo da Forca do Nome do Capeta.\n---------------------------------------------\nEscolha uma opção:\n\n1: Iniciar novo jogo\n2: Ver placar\n3: Ver histórico\n4: Zerar placar\n0: Encerrar\n---------------------------------------------\n\n+-----------------------------------+\n| Nome do capeta: O BEL DO CHICLETE |\n| Erros: m f u                      |\n| Resultado: Vitória                |\n+-----------------------------------+\n\n---------------------------------------------\nBem vindo ao Jogo da Forca do Nome do Capeta.\n---------------------------------------------\nEscolha uma opção:\n\n1: Iniciar novo jogo\n2: Ver placar\n3: Ver histórico\n4: Zerar placar\n0: Encerrar\n---------------------------------------------\n\n+----------------------+\n| Encerrando o jogo... |\n+----------------------+\n\n"
    }
   ],
   "source": [
    "from forca_menu import ForcaMenu\n",
    "\n",
    "app = ForcaMenu()\n",
    "app.run()"
   ]
  },
  {
   "cell_type": "code",
   "execution_count": null,
   "metadata": {},
   "outputs": [],
   "source": []
  }
 ],
 "metadata": {
  "language_info": {
   "codemirror_mode": {
    "name": "ipython",
    "version": 3
   },
   "file_extension": ".py",
   "mimetype": "text/x-python",
   "name": "python",
   "nbconvert_exporter": "python",
   "pygments_lexer": "ipython3",
   "version": "3.8.2-final"
  },
  "orig_nbformat": 2,
  "kernelspec": {
   "name": "python38264bitflaskcondab8b948807ec247a784b37b311691a0db",
   "display_name": "Python 3.8.2 64-bit ('flask': conda)"
  }
 },
 "nbformat": 4,
 "nbformat_minor": 2
}